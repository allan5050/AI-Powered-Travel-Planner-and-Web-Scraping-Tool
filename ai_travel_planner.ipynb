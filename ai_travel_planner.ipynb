{
 "cells": [
  {
   "attachments": {},
   "cell_type": "markdown",
   "id": "ff36c035-80da-40b4-b7b4-04f25d3c5f3f",
   "metadata": {},
   "source": [
    "# AI Travel Planner\n"
   ]
  },
  {
   "attachments": {},
   "cell_type": "markdown",
   "id": "fa247fb7-48bd-445e-82cc-e1b93893ab8b",
   "metadata": {},
   "source": [
    "## Make a plan\n",
    "#### Go somewhere nice.\n",
    "I want to conversationally shape my ideal vacation plan like talking with a real travel expert. \n",
    "I don't know all the details up front, but will know it when I see it."
   ]
  },
  {
   "cell_type": "code",
   "execution_count": 1,
   "id": "230146b2",
   "metadata": {},
   "outputs": [],
   "source": [
    "import os\n",
    "import openai\n",
    "from dotenv import load_dotenv, find_dotenv\n",
    "_ = load_dotenv(find_dotenv()) # read local .env file\n",
    "\n",
    "openai.api_key  = os.environ['OPENAI_API_KEY']"
   ]
  },
  {
   "cell_type": "code",
   "execution_count": 2,
   "id": "032b3add",
   "metadata": {},
   "outputs": [],
   "source": [
    "def get_completion_from_messages(messages, \n",
    "                                 model=\"gpt-3.5-turbo\", \n",
    "                                 temperature=0, \n",
    "                                 max_tokens=500):\n",
    "    response = openai.ChatCompletion.create(\n",
    "        model=model,\n",
    "        messages=messages,\n",
    "        temperature=temperature, \n",
    "        max_tokens=max_tokens, \n",
    "    )\n",
    "    return response.choices[0].message[\"content\"]"
   ]
  },
  {
   "attachments": {},
   "cell_type": "markdown",
   "id": "893e03f3-beaf-407d-be10-120d0f5760af",
   "metadata": {},
   "source": [
    "## Implement a complex task with multiple prompts\n",
    "\n",
    "### Extract relevant product and category names"
   ]
  },
  {
   "cell_type": "code",
   "execution_count": 3,
   "id": "cb6059af",
   "metadata": {},
   "outputs": [
    {
     "name": "stdout",
     "output_type": "stream",
     "text": [
      "[{'category': 'Countries'}]\n"
     ]
    }
   ],
   "source": [
    "delimiter = \"####\"\n",
    "system_message = f\"\"\"\n",
    "You will be provided with customer service queries. \\\n",
    "The customer service query will be delimited with \\\n",
    "{delimiter} characters.\n",
    "Output a python list of objects, where each object has \\\n",
    "the following format:\n",
    "    'category': <one of Countries>,\n",
    "OR\n",
    "    'products': <a list of products that must \\\n",
    "    be found in the allowed products below>\n",
    "\n",
    "Where the categories and products must be found in \\\n",
    "the customer service query.\n",
    "If a product is mentioned, it must be associated with \\\n",
    "the correct category in the allowed products list below.\n",
    "If no products or categories are found, output an \\\n",
    "empty list.\n",
    "\n",
    "Allowed products: \n",
    "\n",
    "Countries category:\n",
    "Greece\n",
    "Costa Rica\n",
    "Israel\n",
    "Spain\n",
    "Finland\n",
    "Sweden\n",
    "Norway\n",
    "Afghanistan\n",
    "\n",
    "\n",
    "\n",
    "Only output the list of objects, with nothing else.\n",
    "\"\"\"\n",
    "user_message_1 = f\"\"\"\n",
    " tell me countries I can go that are LGBTQ friendly. \\\n",
    "  . \\\n",
    "  \"\"\"\n",
    "messages =  [  \n",
    "{'role':'system', \n",
    " 'content': system_message},    \n",
    "{'role':'user', \n",
    " 'content': f\"{delimiter}{user_message_1}{delimiter}\"},  \n",
    "] \n",
    "category_and_product_response_1 = get_completion_from_messages(messages)\n",
    "print(category_and_product_response_1)"
   ]
  },
  {
   "cell_type": "code",
   "execution_count": 4,
   "id": "1aa1367c",
   "metadata": {},
   "outputs": [
    {
     "name": "stdout",
     "output_type": "stream",
     "text": [
      "[{'category': 'Countries'}]\n"
     ]
    }
   ],
   "source": [
    "user_message_2 = f\"\"\"\n",
    "i want to go to a country that is LGBTQ friendly.\"\"\"\n",
    "messages =  [  \n",
    "{'role':'system',\n",
    " 'content': system_message},    \n",
    "{'role':'user',\n",
    " 'content': f\"{delimiter}{user_message_2}{delimiter}\"},  \n",
    "] \n",
    "response = get_completion_from_messages(messages)\n",
    "print(response)"
   ]
  },
  {
   "attachments": {},
   "cell_type": "markdown",
   "id": "adb67e58-78e3-49e3-830e-5983131723ab",
   "metadata": {},
   "source": [
    "### Retrieve detailed product information for extracted products and categories"
   ]
  },
  {
   "cell_type": "code",
   "execution_count": 5,
   "id": "502fb261",
   "metadata": {},
   "outputs": [],
   "source": [
    "# product information\n",
    "products = {\n",
    "    \"Finland\": {\n",
    "        \"name\": \"Finland\",\n",
    "        \"category\": \"Countries\",\n",
    "        \"rating\": 4.5,\n",
    "        \"features\": [\"LGBTQ friendly\", \"rice pudding\", \"cold weather\", \"Nordic\", \"scenic nature\"],\n",
    "        \"description\": \"Finland has fantastic summers, and is a magical winter wonderland. It is known for its saunas, reindeer, and abundant nature and forests.\",\n",
    "        \"average temperature\": \"50F\"\n",
    "    },\n",
    "    \"Spain\": {\n",
    "        \"name\": \"Spain\",\n",
    "        \"category\": \"Countries\",\n",
    "        \"rating\": 4.7,\n",
    "        \"features\": [\"LGBTQ friendly\", \"warm weather\", \"beaches\", \"tropical\", \"boat tours\"],\n",
    "        \"description\": \"Relax at the beach, warm your toes in the sand, and swim in the beautiful Mediterranean sea. Spain has abundant palm trees.\",\n",
    "        \"average temperature\": \"85F\"\n",
    "    },\n",
    "    \"Afghanistan\": {\n",
    "        \"name\": \"Afghanistan\",\n",
    "        \"category\": \"Countries\",\n",
    "        \"rating\": 3.0,\n",
    "        \"features\": [\"warm weather\", \"mountains\"],\n",
    "        \"description\": \"Hike in the mountains and enjoy the sun.\",\n",
    "        \"average temperature\": \"85F\"\n",
    "    }\n",
    "}"
   ]
  },
  {
   "cell_type": "code",
   "execution_count": 6,
   "id": "64d0e64e",
   "metadata": {},
   "outputs": [],
   "source": [
    "def get_product_by_name(name):\n",
    "    return products.get(name, None)\n",
    "\n",
    "def get_products_by_category(category):\n",
    "    return [product for product in products.values() if product[\"category\"] == category]"
   ]
  },
  {
   "cell_type": "code",
   "execution_count": 7,
   "id": "11b08b69",
   "metadata": {},
   "outputs": [
    {
     "name": "stdout",
     "output_type": "stream",
     "text": [
      "{'name': 'Finland', 'category': 'Countries', 'rating': 4.5, 'features': ['LGBTQ friendly', 'rice pudding', 'cold weather', 'Nordic', 'scenic nature'], 'description': 'Finland has fantastic summers, and is a magical winter wonderland. It is known for its saunas, reindeer, and abundant nature and forests.', 'average temperature': '50F'}\n"
     ]
    }
   ],
   "source": [
    "print(get_product_by_name(\"Finland\"))"
   ]
  },
  {
   "cell_type": "code",
   "execution_count": 8,
   "id": "0f40b043",
   "metadata": {},
   "outputs": [
    {
     "name": "stdout",
     "output_type": "stream",
     "text": [
      "[{'name': 'Finland', 'category': 'Countries', 'rating': 4.5, 'features': ['LGBTQ friendly', 'rice pudding', 'cold weather', 'Nordic', 'scenic nature'], 'description': 'Finland has fantastic summers, and is a magical winter wonderland. It is known for its saunas, reindeer, and abundant nature and forests.', 'average temperature': '50F'}, {'name': 'Spain', 'category': 'Countries', 'rating': 4.7, 'features': ['LGBTQ friendly', 'warm weather', 'beaches', 'tropical', 'boat tours'], 'description': 'Relax at the beach, warm your toes in the sand, and swim in the beautiful Mediterranean sea. Spain has abundant palm trees.', 'average temperature': '85F'}, {'name': 'Afghanistan', 'category': 'Countries', 'rating': 3.0, 'features': ['warm weather', 'mountains'], 'description': 'Hike in the mountains and enjoy the sun.', 'average temperature': '85F'}]\n"
     ]
    }
   ],
   "source": [
    "print(get_products_by_category(\"Countries\"))"
   ]
  },
  {
   "cell_type": "code",
   "execution_count": 9,
   "id": "04aa364d",
   "metadata": {},
   "outputs": [
    {
     "name": "stdout",
     "output_type": "stream",
     "text": [
      "\n",
      " tell me countries I can go that are LGBTQ friendly.   .   \n"
     ]
    }
   ],
   "source": [
    "print(user_message_1)"
   ]
  },
  {
   "cell_type": "code",
   "execution_count": 10,
   "id": "5d09ff6b",
   "metadata": {},
   "outputs": [
    {
     "name": "stdout",
     "output_type": "stream",
     "text": [
      "[{'category': 'Countries'}]\n"
     ]
    }
   ],
   "source": [
    "print(category_and_product_response_1)"
   ]
  },
  {
   "attachments": {},
   "cell_type": "markdown",
   "id": "62e73370-597a-4195-94b2-e9d188113d7c",
   "metadata": {},
   "source": [
    "### Read Python string into Python list of dictionaries"
   ]
  },
  {
   "cell_type": "code",
   "execution_count": 11,
   "id": "ea0a3506",
   "metadata": {},
   "outputs": [],
   "source": [
    "import json \n",
    "\n",
    "def read_string_to_list(input_string):\n",
    "    if input_string is None:\n",
    "        return None\n",
    "\n",
    "    try:\n",
    "        input_string = input_string.replace(\"'\", \"\\\"\")  # Replace single quotes with double quotes for valid JSON\n",
    "        data = json.loads(input_string)\n",
    "        return data\n",
    "    except json.JSONDecodeError:\n",
    "        print(\"Error: Invalid JSON string\")\n",
    "        return None   \n",
    "    "
   ]
  },
  {
   "cell_type": "code",
   "execution_count": 12,
   "id": "488a2024",
   "metadata": {},
   "outputs": [
    {
     "name": "stdout",
     "output_type": "stream",
     "text": [
      "[{'category': 'Countries'}]\n"
     ]
    }
   ],
   "source": [
    "category_and_product_list = read_string_to_list(category_and_product_response_1)\n",
    "print(category_and_product_list)"
   ]
  },
  {
   "attachments": {},
   "cell_type": "markdown",
   "id": "97915cdf-137a-41a0-84e0-edcf269a37cd",
   "metadata": {},
   "source": [
    "#### Retrieve detailed product information for the relevant products and categories"
   ]
  },
  {
   "cell_type": "code",
   "execution_count": 13,
   "id": "8d571c2c",
   "metadata": {},
   "outputs": [],
   "source": [
    "def generate_output_string(data_list):\n",
    "    output_string = \"\"\n",
    "\n",
    "    if data_list is None:\n",
    "        return output_string\n",
    "\n",
    "    for data in data_list:\n",
    "        try:\n",
    "            if \"products\" in data:\n",
    "                products_list = data[\"products\"]\n",
    "                for product_name in products_list:\n",
    "                    product = get_product_by_name(product_name)\n",
    "                    if product:\n",
    "                        output_string += json.dumps(product, indent=4) + \"\\n\"\n",
    "                    else:\n",
    "                        print(f\"Error: Product '{product_name}' not found\")\n",
    "            elif \"category\" in data:\n",
    "                category_name = data[\"category\"]\n",
    "                category_products = get_products_by_category(category_name)\n",
    "                for product in category_products:\n",
    "                    output_string += json.dumps(product, indent=4) + \"\\n\"\n",
    "            else:\n",
    "                print(\"Error: Invalid object format\")\n",
    "        except Exception as e:\n",
    "            print(f\"Error: {e}\")\n",
    "\n",
    "    return output_string "
   ]
  },
  {
   "cell_type": "code",
   "execution_count": 14,
   "id": "a5e18759",
   "metadata": {},
   "outputs": [
    {
     "name": "stdout",
     "output_type": "stream",
     "text": [
      "{\n",
      "    \"name\": \"Finland\",\n",
      "    \"category\": \"Countries\",\n",
      "    \"rating\": 4.5,\n",
      "    \"features\": [\n",
      "        \"LGBTQ friendly\",\n",
      "        \"rice pudding\",\n",
      "        \"cold weather\",\n",
      "        \"Nordic\",\n",
      "        \"scenic nature\"\n",
      "    ],\n",
      "    \"description\": \"Finland has fantastic summers, and is a magical winter wonderland. It is known for its saunas, reindeer, and abundant nature and forests.\",\n",
      "    \"average temperature\": \"50F\"\n",
      "}\n",
      "{\n",
      "    \"name\": \"Spain\",\n",
      "    \"category\": \"Countries\",\n",
      "    \"rating\": 4.7,\n",
      "    \"features\": [\n",
      "        \"LGBTQ friendly\",\n",
      "        \"warm weather\",\n",
      "        \"beaches\",\n",
      "        \"tropical\",\n",
      "        \"boat tours\"\n",
      "    ],\n",
      "    \"description\": \"Relax at the beach, warm your toes in the sand, and swim in the beautiful Mediterranean sea. Spain has abundant palm trees.\",\n",
      "    \"average temperature\": \"85F\"\n",
      "}\n",
      "{\n",
      "    \"name\": \"Afghanistan\",\n",
      "    \"category\": \"Countries\",\n",
      "    \"rating\": 3.0,\n",
      "    \"features\": [\n",
      "        \"warm weather\",\n",
      "        \"mountains\"\n",
      "    ],\n",
      "    \"description\": \"Hike in the mountains and enjoy the sun.\",\n",
      "    \"average temperature\": \"85F\"\n",
      "}\n",
      "\n"
     ]
    }
   ],
   "source": [
    "product_information_for_user_message_1 = generate_output_string(category_and_product_list)\n",
    "print(product_information_for_user_message_1)"
   ]
  },
  {
   "attachments": {},
   "cell_type": "markdown",
   "id": "5464be6a-d24d-43fa-b9ef-59ded464b087",
   "metadata": {},
   "source": [
    "### Generate answer to user query based on detailed product information"
   ]
  },
  {
   "cell_type": "code",
   "execution_count": 17,
   "id": "6d3ad31e",
   "metadata": {},
   "outputs": [
    {
     "name": "stdout",
     "output_type": "stream",
     "text": [
      "Spain would be a great destination for you! It is LGBTQ friendly, has palm trees, and offers boat tours.\n"
     ]
    }
   ],
   "source": [
    "system_message = f\"\"\"\n",
    "You are a customer service assistant for a travel agency. \\\n",
    "Respond in a friendly and helpful tone, \\\n",
    "with very concise answers. \\\n",
    "Make sure to ask the user relevant follow up questions.\\\n",
    "You should only use data in the products dictionary and nothing else. \\\n",
    "You should not list other products if it is not a match or not true. \\\n",
    "All criteria in the question must be met in your response, otherwise respond with an apology.\\\n",
    "If a criteria is not met, then say so, but do not offer alternatives.\\\n",
    "\"\"\"\n",
    "# Note: 'Do not list other products if it is not a match.' \n",
    "user_message_1 = f\"\"\"\n",
    "where can I visit that is LGBTQ friendly, has palm trees, and has boat tours? \\\n",
    "\"\"\"\n",
    "messages =  [  \n",
    "{'role':'system',\n",
    " 'content': system_message},   \n",
    "{'role':'user',\n",
    " 'content': user_message_1},  \n",
    "{'role':'assistant',\n",
    " 'content': f\"\"\"Relevant product information:\\n\\\n",
    " {product_information_for_user_message_1}\"\"\"},   \n",
    "]\n",
    "final_response = get_completion_from_messages(messages)\n",
    "print(final_response)"
   ]
  }
 ],
 "metadata": {
  "kernelspec": {
   "display_name": "Python 3 (ipykernel)",
   "language": "python",
   "name": "python3"
  },
  "language_info": {
   "codemirror_mode": {
    "name": "ipython",
    "version": 3
   },
   "file_extension": ".py",
   "mimetype": "text/x-python",
   "name": "python",
   "nbconvert_exporter": "python",
   "pygments_lexer": "ipython3",
   "version": "3.10.8"
  }
 },
 "nbformat": 4,
 "nbformat_minor": 5
}
